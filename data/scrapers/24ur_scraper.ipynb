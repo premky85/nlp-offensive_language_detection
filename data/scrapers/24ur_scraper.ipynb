{
 "cells": [
  {
   "cell_type": "code",
   "execution_count": null,
   "metadata": {},
   "outputs": [],
   "source": [
    "from urllib.request import urlopen\n",
    "from bs4 import BeautifulSoup"
   ]
  },
  {
   "cell_type": "code",
   "execution_count": null,
   "metadata": {
    "pycharm": {
     "name": "#%%\n"
    }
   },
   "outputs": [],
   "source": [
    "baseUrl = \"https://www.24ur.com\"\n",
    "articleArchiveSoup = BeautifulSoup(urlopen(baseUrl + \"/arhiv\"), \"html.parser\")"
   ]
  },
  {
   "cell_type": "code",
   "execution_count": null,
   "metadata": {
    "pycharm": {
     "name": "#%%\n"
    }
   },
   "outputs": [],
   "source": [
    "import os\n",
    "from selenium import webdriver\n",
    "\n",
    "# to prevent selenium browser from opening during running\n",
    "os.environ['MOZ_HEADLESS'] = '1'\n",
    "\n",
    "browser = webdriver.Firefox(executable_path='/home/majsavli/geckodriver')"
   ]
  },
  {
   "cell_type": "code",
   "execution_count": null,
   "metadata": {
    "pycharm": {
     "name": "#%%\n"
    }
   },
   "outputs": [],
   "source": [
    "# how many article pages to scrap\n",
    "PAGE_LIMIT = 20\n",
    "parsedComments = []\n",
    "\n",
    "for page in range(PAGE_LIMIT):\n",
    "    print(\"Page: \", page + 1)\n",
    "    articles = articleArchiveSoup.find_all(\"a\", {\"class\": \"timeline__item\"})\n",
    "\n",
    "    for article in articles:\n",
    "        articleUrl = baseUrl + article.attrs[\"href\"]\n",
    "        print(articleUrl)\n",
    "        browser.get(articleUrl)\n",
    "        comments = browser.find_elements_by_class_name('comment')\n",
    "\n",
    "        for comment in comments:\n",
    "            if len(comment.get_attribute('class').split(' ')) == 1:\n",
    "                commentText = comment.find_element_by_class_name('comment__body')\n",
    "                try:\n",
    "                    rating = comment.find_element_by_class_name('comment__rating')\n",
    "                    parsedComments.append((commentText.text, rating.text))\n",
    "                except:\n",
    "                    parsedComments.append((commentText.text, \"-\"))"
   ]
  },
  {
   "cell_type": "code",
   "execution_count": null,
   "metadata": {
    "pycharm": {
     "name": "#%%\n"
    }
   },
   "outputs": [],
   "source": [
    "import re\n",
    "\n",
    "def remove_emoji(string):\n",
    "    emoji_pattern = re.compile(\"[\"\n",
    "                               u\"\\U0001F600-\\U0001F64F\"  # emoticons\n",
    "                               u\"\\U0001F300-\\U0001F5FF\"  # symbols & pictographs\n",
    "                               u\"\\U0001F680-\\U0001F6FF\"  # transport & map symbols\n",
    "                               u\"\\U0001F1E0-\\U0001F1FF\"  # flags (iOS)\n",
    "                               u\"\\U00002500-\\U00002BEF\"  # chinese char\n",
    "                               u\"\\U00002702-\\U000027B0\"\n",
    "                               u\"\\U00002702-\\U000027B0\"\n",
    "                               u\"\\U000024C2-\\U0001F251\"\n",
    "                               u\"\\U0001f926-\\U0001f937\"\n",
    "                               u\"\\U00010000-\\U0010ffff\"\n",
    "                               u\"\\u2640-\\u2642\"\n",
    "                               u\"\\u2600-\\u2B55\"\n",
    "                               u\"\\u200d\"\n",
    "                               u\"\\u23cf\"\n",
    "                               u\"\\u23e9\"\n",
    "                               u\"\\u231a\"\n",
    "                               u\"\\ufe0f\"  # dingbats\n",
    "                               u\"\\u3030\"\n",
    "                               \"]+\", flags=re.UNICODE)\n",
    "    return emoji_pattern.sub(r'', string)\n",
    "\n",
    "\n",
    "filename = \"../24ur_comments.csv\"\n",
    "f = open(filename, \"w\")\n",
    "\n",
    "headers = \"comment, like_ratio\\n\"\n",
    "f.write(headers)\n",
    "\n",
    "for text, likes in parsedComments:\n",
    "    f.write(\"'\" + remove_emoji(text) + \"'\" + \",\" + likes + \"\\n\")\n",
    "\n",
    "f.close()"
   ]
  }
 ],
 "metadata": {
  "kernelspec": {
   "display_name": "Python 3",
   "language": "python",
   "name": "python3"
  },
  "language_info": {
   "codemirror_mode": {
    "name": "ipython",
    "version": 3
   },
   "file_extension": ".py",
   "mimetype": "text/x-python",
   "name": "python",
   "nbconvert_exporter": "python",
   "pygments_lexer": "ipython3",
   "version": "3.8.5"
  }
 },
 "nbformat": 4,
 "nbformat_minor": 1
}