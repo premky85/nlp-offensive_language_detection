{
 "cells": [
  {
   "cell_type": "code",
   "execution_count": 1,
   "metadata": {
    "collapsed": true
   },
   "outputs": [],
   "source": [
    "import pandas as pd\n",
    "from preprocessing_utils import clean_text"
   ]
  },
  {
   "cell_type": "code",
   "execution_count": 2,
   "outputs": [
    {
     "data": {
      "text/plain": "                                                text  label\n0                          Merkel would never say NO      1\n1  Expect more and more women to be asking .. \"wh...      1\n2  Groping people in public wasn't already illega...      0\n3  Merkel, possible the only person in charge who...      1\n4  They know very well, no means NO! They need to...      1",
      "text/html": "<div>\n<style scoped>\n    .dataframe tbody tr th:only-of-type {\n        vertical-align: middle;\n    }\n\n    .dataframe tbody tr th {\n        vertical-align: top;\n    }\n\n    .dataframe thead th {\n        text-align: right;\n    }\n</style>\n<table border=\"1\" class=\"dataframe\">\n  <thead>\n    <tr style=\"text-align: right;\">\n      <th></th>\n      <th>text</th>\n      <th>label</th>\n    </tr>\n  </thead>\n  <tbody>\n    <tr>\n      <th>0</th>\n      <td>Merkel would never say NO</td>\n      <td>1</td>\n    </tr>\n    <tr>\n      <th>1</th>\n      <td>Expect more and more women to be asking .. \"wh...</td>\n      <td>1</td>\n    </tr>\n    <tr>\n      <th>2</th>\n      <td>Groping people in public wasn't already illega...</td>\n      <td>0</td>\n    </tr>\n    <tr>\n      <th>3</th>\n      <td>Merkel, possible the only person in charge who...</td>\n      <td>1</td>\n    </tr>\n    <tr>\n      <th>4</th>\n      <td>They know very well, no means NO! They need to...</td>\n      <td>1</td>\n    </tr>\n  </tbody>\n</table>\n</div>"
     },
     "execution_count": 2,
     "metadata": {},
     "output_type": "execute_result"
    }
   ],
   "source": [
    "df = pd.read_csv('../fox_news_comments/fox_news_comments.csv')\n",
    "df.drop(['Unnamed: 0', 'title', 'succ', 'meta', 'user', 'mentions', 'prev'], axis=1, inplace=True)\n",
    "df.head()"
   ],
   "metadata": {
    "collapsed": false,
    "pycharm": {
     "name": "#%%\n"
    }
   }
  },
  {
   "cell_type": "code",
   "execution_count": 4,
   "outputs": [],
   "source": [
    "params = [\"lower\", \"accented\", \"links\", \"special\", \"contractions\", \"punct\", \"numbers\", \"whitespaces\", \"stemming\"]\n",
    "df['text'] = df['text'].apply(lambda x: clean_text(x, params, \"eng\", False))\n",
    "annotations = df[df['text'] != \"\"]\n",
    "# annotations.head()\n",
    "\n",
    "annotations.to_csv('../preprocessed_data/fox_news_comments.csv')"
   ],
   "metadata": {
    "collapsed": false,
    "pycharm": {
     "name": "#%%\n"
    }
   }
  }
 ],
 "metadata": {
  "kernelspec": {
   "display_name": "Python 3",
   "language": "python",
   "name": "python3"
  },
  "language_info": {
   "codemirror_mode": {
    "name": "ipython",
    "version": 2
   },
   "file_extension": ".py",
   "mimetype": "text/x-python",
   "name": "python",
   "nbconvert_exporter": "python",
   "pygments_lexer": "ipython2",
   "version": "2.7.6"
  }
 },
 "nbformat": 4,
 "nbformat_minor": 0
}