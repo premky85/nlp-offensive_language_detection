{
 "cells": [
  {
   "cell_type": "code",
   "execution_count": 1,
   "metadata": {
    "collapsed": true
   },
   "outputs": [],
   "source": [
    "import pandas as pd"
   ]
  },
  {
   "cell_type": "code",
   "execution_count": 2,
   "outputs": [],
   "source": [
    "def is_offensive(cls):\n",
    "    if cls == 1: return 1\n",
    "    else: return 0\n",
    "\n",
    "def is_hate(cls):\n",
    "    if cls == 0: return 1\n",
    "    else: return 0\n",
    "\n",
    "df = pd.read_csv('../twitter/labeled_data-davidson.csv')\n",
    "df.drop(['count', 'neither', 'Unnamed: 0'], axis=1, inplace=True)\n",
    "# df.head()\n",
    "df['is_offensive'] = df['class'].apply(is_offensive)\n",
    "df['is_hate'] = df['class'].apply(is_hate)\n"
   ],
   "metadata": {
    "collapsed": false,
    "pycharm": {
     "name": "#%%\n"
    }
   }
  },
  {
   "cell_type": "code",
   "execution_count": 3,
   "outputs": [],
   "source": [
    "import re\n",
    "\n",
    "def clean_text(text):\n",
    "    cleaned_text = re.sub(\n",
    "        \"(^!+)|([@][^\\s]*[:]?)|(&#\\d+;)|(https?[^\\s]*)|(&amp;)|(RT)|(&lt;)\",\n",
    "        \"\",\n",
    "        text\n",
    "    )\n",
    "\n",
    "    return cleaned_text\n",
    "\n",
    "df['tweet'] = df['tweet'].apply(clean_text)\n",
    "df.to_csv('../twitter/twitter_preprocessed.csv')"
   ],
   "metadata": {
    "collapsed": false,
    "pycharm": {
     "name": "#%%\n"
    }
   }
  }
 ],
 "metadata": {
  "kernelspec": {
   "display_name": "Python 3",
   "language": "python",
   "name": "python3"
  },
  "language_info": {
   "codemirror_mode": {
    "name": "ipython",
    "version": 2
   },
   "file_extension": ".py",
   "mimetype": "text/x-python",
   "name": "python",
   "nbconvert_exporter": "python",
   "pygments_lexer": "ipython2",
   "version": "2.7.6"
  }
 },
 "nbformat": 4,
 "nbformat_minor": 0
}