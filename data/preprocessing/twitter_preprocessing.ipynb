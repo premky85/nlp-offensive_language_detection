{
 "cells": [
  {
   "cell_type": "code",
   "execution_count": 2,
   "metadata": {},
   "outputs": [],
   "source": [
    "import pandas as pd"
   ]
  },
  {
   "cell_type": "code",
   "execution_count": 9,
   "metadata": {
    "pycharm": {
     "name": "#%%\n"
    }
   },
   "outputs": [],
   "source": [
    "csv_path = '../twitter_slo/slo_twitter_binary.csv'\n",
    "\n",
    "def map_classes(cls):\n",
    "    if cls == \"ni sporni govor\": return 0\n",
    "    elif cls == \"žalitev\": return 1\n",
    "    else: return 2\n",
    "\n",
    "df = pd.read_csv(csv_path)\n",
    "# df.drop(['count', 'neither', 'Unnamed: 0'], axis=1, inplace=True)\n",
    "# df['tweet'].head()\n",
    "df.rename(columns={\"sporni_govor\": \"class_binary\"}, inplace=True)\n",
    "df.rename(columns={\"is_offensive\": \"class_multi\"}, inplace=True)\n",
    "# df.head()"
   ]
  },
  {
   "cell_type": "code",
   "execution_count": 10,
   "metadata": {
    "pycharm": {
     "name": "#%%\n"
    }
   },
   "outputs": [],
   "source": [
    "from preprocessing_utils import *\n",
    "\n",
    "def clean_text(text):\n",
    "    cleaned_text = re.sub(\n",
    "        \"(^!+)|([@][^\\s]*[:]?)|(&#\\d+;)|(https?[^\\s]*)|(&amp;)|(RT)|(&lt;)|(\\n)\",\n",
    "        \"\",\n",
    "        text\n",
    "    )\n",
    "\n",
    "    # removing accented characters\n",
    "    # cleaned_text = remove_accented_chars(cleaned_text)\n",
    "\n",
    "    # removing special characters\n",
    "    cleaned_text = remove_special_characters(cleaned_text)\n",
    "\n",
    "    # removing contractions\n",
    "    # cleaned_text = contractions.fix(cleaned_text)\n",
    "\n",
    "    # removing punctuation\n",
    "    cleaned_text = remove_punctuation(cleaned_text)\n",
    "\n",
    "    # text stemming\n",
    "    cleaned_text = stemming(cleaned_text, \"slo\")\n",
    "\n",
    "    # removing extra whitespaces\n",
    "    cleaned_text = cleaned_text.strip()\n",
    "    cleaned_text = remove_extra_whitespace_tabs(cleaned_text)\n",
    "\n",
    "    # print(text)\n",
    "    # print(cleaned_text)\n",
    "    # print()\n",
    "\n",
    "    return cleaned_text.lower()\n",
    "\n",
    "df['tweet'] = df['tweet'].apply(clean_text)\n",
    "df['class_multi'] = df['class_multi'].apply(map_classes)\n",
    "# df.head(30)\n",
    "df.to_csv('../preprocessed_data/slo_twitter_binary_preprocessed.csv')"
   ]
  }
 ],
 "metadata": {
  "kernelspec": {
   "display_name": "Python 3",
   "language": "python",
   "name": "python3"
  },
  "language_info": {
   "codemirror_mode": {
    "name": "ipython",
    "version": 3
   },
   "file_extension": ".py",
   "mimetype": "text/x-python",
   "name": "python",
   "nbconvert_exporter": "python",
   "pygments_lexer": "ipython3",
   "version": "3.8.5"
  }
 },
 "nbformat": 4,
 "nbformat_minor": 1
}