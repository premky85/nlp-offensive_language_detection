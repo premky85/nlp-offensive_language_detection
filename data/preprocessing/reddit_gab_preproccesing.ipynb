{
 "cells": [
  {
   "cell_type": "code",
   "execution_count": 2,
   "metadata": {
    "collapsed": true
   },
   "outputs": [],
   "source": [
    "import pandas as pd\n",
    "import ast\n",
    "\n",
    "from preprocessing_utils import *\n",
    "\n",
    "# csv_path = '../reddit_and_gab/gab-q.csv'\n",
    "csv_path = '../preprocessed_data/fox_news_comments_preprocessed.csv'\n",
    "\n",
    "def map_class(cls):\n",
    "\tif cls == 1:\n",
    "\t\treturn 2\n",
    "\telse:\n",
    "\t\treturn cls\n",
    "\n",
    "df = pd.read_csv(csv_path)\n",
    "# df.drop(['Unnamed: '], axis=1, inplace=True)\n",
    "# df['hate_speech_idx'] = df['hate_speech_idx'].fillna(0)\n",
    "# df.rename(columns={\"is_hate\": \"class\"}, inplace=True)\n",
    "df['class'] = df['class'].apply(map_class)\n",
    "# df.head()\n",
    "df.to_csv('../preprocessed_data/fox_news_comments_preprocessed.csv')"
   ]
  },
  {
   "cell_type": "code",
   "execution_count": 4,
   "metadata": {
    "pycharm": {
     "name": "#%%\n"
    }
   },
   "outputs": [],
   "source": [
    "new_df = pd.DataFrame(columns=['text', 'is_hate'])\n",
    "\n",
    "for row_index, row in df.iterrows():\n",
    "    hate_speech_index = row['hate_speech_idx']\n",
    "    sent = row['text'].split('\\n')\n",
    "    sent_preprocessed = []\n",
    "\n",
    "    for s in sent:\n",
    "        # print(\"STAVEK:\", s)\n",
    "        s = remove_links(s)\n",
    "        s = remove_accented_chars(s)\n",
    "        s = remove_special_characters(s)\n",
    "        s = remove_punctuation(s)\n",
    "        s = s.lower()\n",
    "        s = expand_contractions(s)\n",
    "        s = remove_numbers(s)\n",
    "        s = remove_extra_whitespace_tabs(s)\n",
    "        s = stemming(s, \"ang\")\n",
    "        # print(\"STAVEK P:\", s)\n",
    "        # print()\n",
    "        sent_preprocessed.append(s)\n",
    "\n",
    "\n",
    "    if hate_speech_index == 0:\n",
    "        for s in sent_preprocessed:\n",
    "            if s and s != \"remov\" and s != \"delet\":\n",
    "                new_df.loc[len(new_df.index)] = [s, 0]\n",
    "    else:\n",
    "        hate_text_indexes = ast.literal_eval(row['hate_speech_idx'])\n",
    "        for s_index, s in enumerate(sent_preprocessed, 1):\n",
    "            if s and s != \"remov\" and s != \"delet\":\n",
    "                if s_index in hate_text_indexes:\n",
    "                    new_df.loc[len(new_df.index)] = [s, 1]\n",
    "                else:\n",
    "                    new_df.loc[len(new_df.index)] = [s, 0]\n",
    "\n",
    "# new_df.head(100)\n",
    "new_df.to_csv('../preprocessed_data/gab_preprocessed.csv')"
   ]
  }
 ],
 "metadata": {
  "kernelspec": {
   "display_name": "Python 3",
   "language": "python",
   "name": "python3"
  },
  "language_info": {
   "codemirror_mode": {
    "name": "ipython",
    "version": 3
   },
   "file_extension": ".py",
   "mimetype": "text/x-python",
   "name": "python",
   "nbconvert_exporter": "python",
   "pygments_lexer": "ipython3",
   "version": "3.8.5"
  }
 },
 "nbformat": 4,
 "nbformat_minor": 1
}