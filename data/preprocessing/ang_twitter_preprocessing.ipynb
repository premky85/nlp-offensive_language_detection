{
 "cells": [
  {
   "cell_type": "code",
   "execution_count": 2,
   "metadata": {
    "collapsed": true
   },
   "outputs": [],
   "source": [
    "import pandas as pd\n",
    "\n",
    "csv_path = '../preprocessed_data/twitter_preprocessed.csv'\n",
    "\n",
    "def map_classes(cls):\n",
    "    if cls == 2: return 1\n",
    "    elif cls == 3: return 2\n",
    "    else: return cls\n",
    "\n",
    "df = pd.read_csv(csv_path)\n",
    "# df.drop(['count', 'neither', 'Unnamed: 0'], axis=1, inplace=True)\n",
    "# df['tweet'].head()\n",
    "# df.head()\n",
    "df['class'] = df['class'].apply(map_classes)\n",
    "df.to_csv('../preprocessed_data/twitter_preprocessed.csv')"
   ]
  }
 ],
 "metadata": {
  "kernelspec": {
   "display_name": "Python 3",
   "language": "python",
   "name": "python3"
  },
  "language_info": {
   "codemirror_mode": {
    "name": "ipython",
    "version": 2
   },
   "file_extension": ".py",
   "mimetype": "text/x-python",
   "name": "python",
   "nbconvert_exporter": "python",
   "pygments_lexer": "ipython2",
   "version": "2.7.6"
  }
 },
 "nbformat": 4,
 "nbformat_minor": 0
}