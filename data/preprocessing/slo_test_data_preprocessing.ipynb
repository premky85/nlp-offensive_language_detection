{
 "cells": [
  {
   "cell_type": "code",
   "execution_count": 3,
   "metadata": {
    "collapsed": true,
    "pycharm": {
     "is_executing": false
    }
   },
   "outputs": [],
   "source": [
    "import pandas as pd\n",
    "import re\n",
    "\n",
    "csv_path = '../slo_test_data.csv'\n",
    "df = pd.read_csv(csv_path)\n",
    "# df.head()"
   ]
  },
  {
   "cell_type": "code",
   "execution_count": 5,
   "outputs": [
    {
     "name": "stdout",
     "text": [
      "ej un k je napis d ma rd ćefur pa je sloven je izdaj\nej un k je napis d ma rd ćefur pa je sloven je izdaj\n\npizde posran vijol ka ste spizdel sred maribor ste se ustra nas grobar nas je blo 300 vas 5 000 pa ste dobli po pički ste pa ja spizdl ko jazbe\npizde posran vijol ka ste spizdel sred maribor ste se ustra nas grobar nas je blo 300 vas 5 000 pa ste dobli po pički ste pa ja spizdl ko jazbe\n\nolimp pizda ti je matern jebem te mi viole so zakon\nolimp pizda ti je matern jebem te mi viole so zakon\n\nštajer jebe glupe žabar glupe žabar idite do mu vi lepo in si pizde rajcaj\nštajer jebe glupe žabar glupe žabar idite do mu vi lepo in si pizde rajcaj\n\nrevca si sparal 12 let da si nabral tok dnarj kr si vsega porab vse za poper\nrevca si sparal 12 let da si nabral tok dnarj kr si vsega porab vse za poper\n\npejt ti lepo mal v pizdo matern dobro nas jahat\npejt ti lepo mal v pizdo matern dobro nas jahat\n\nboli nas kurac za 1312\nboli nas kurac za 1312\n\nte ni sram tako lagat ne ker se vidi kam spada\nte ni sram tako lagat ne ker se vidi kam spada\n\nzmago raje ne blebetaj neumnos ko zines prismr ko iz grezn\nzmago raje ne blebetaj neumnos ko zines prismr ko iz grezn\n\nkurbe žabars da vam ne bomo gobce sesul\nkurbe žabars da vam ne bomo gobce sesul\n\nčefur je treba zastrupit ko miši\nčefur je treba zastrupit ko miši\n\nkva pa če bi svojo đamij hotli kar vsepovsod vsi postav kva pol mejte jo tam kamor spada in zraven tud vi\nkva pa če bi svojo đamij hotli kar vsepovsod vsi postav kva pol mejte jo tam kamor spada in zraven tud vi\n\nsaj niso vsi smrdlj in prfukn sam nekater izjem pa so in to ne mal ornk\nsaj niso vsi smrdlj in prfukn sam nekater izjem pa so in to ne mal ornk\n\nimela sem prilož sodel z obema in mi je žal da je zmagal fištrav\nimela sem prilož sodel z obema in mi je žal da je zmagal fištrav\n\nče želim nazaj v normal moram pokaz odgovor\nče želim nazaj v normal moram pokaz odgovor\n\nmisli da vam najbol gre v nos to da večin ljudi ni neumn in se sploh nemisl cepit\nmisli da vam najbol gre v nos to da večin ljudi ni neumn in se sploh nemisl cepit\n\nčas je za normal polet in skrajn čas je za normal drzav\nčas je za normal polet in skrajn čas je za normal drzav\n\nhvala za tako lepe pesmi kater si nam napis in sedaj zapust\nhvala za tako lepe pesmi kater si nam napis in sedaj zapust\n\nto je edina rekla ki se je ne navelič gleda\nto je edina rekla ki se je ne navelič gleda\n\nbutal šarec bi lahko bil vaš vodja\nbutal šarec bi lahko bil vaš vodja\n\nbolj fuknj člove pa že dolgo nisem videl\nbolj fuknj člove pa že dolgo nisem videl\n\nnaj se izraz svobod jebi se\nnaj se izraz svobod jebi se\n\nvsi so bili pijan ko prasc\nvsi so bili pijan ko prasc\n\nše to se je manjk dve pofuk lezbij\nše to se je manjk dve pofuk lezbij\n\npizda zakaj bi jaz to počel takrat kadar vi želit\npizda zakaj bi jaz to počel takrat kadar vi želit\n\njebem ti mater da bi te natakn na kol\njebem ti mater da bi te natakn na kol\n\nja kakšn je pa ta lara kot eno straš kot ena nimfo\nja kakšn je pa ta lara kot eno straš kot ena nimfo\n\nkaj je z t vijolč barvo to je barva za geje\nkaj je z t vijolč barvo to je barva za geje\n\nbaba je psihič moten\nbaba je psihič moten\n\nprekl pijan zagam zgini s kjer si prišel\nprekl pijan zagam zgini s kjer si prišel\n\nmura zmagat te šalabajzer in lenuh v sobot\nmura zmagat te šalabajzer in lenuh v sobot\n\nžidovk marionet\nžidovk marionet\n\nupam da izrael ne bo tako z lahka odneh kajti teror je treba iztrebit\nupam da izrael ne bo tako z lahka odneh kajti teror je treba iztrebit\n\ntrump je vsaj obvlad ples s sablj je tancov in vihtel tisto želez kot popaj\ntrump je vsaj obvlad ples s sablj je tancov in vihtel tisto želez kot popaj\n\nkaj res misl da se hoče ta star ukvarj z resni temam ko pa ve da ga že matild voha\nkaj res misl da se hoče ta star ukvarj z resni temam ko pa ve da ga že matild voha\n\nmisli da je to robot in ne človek zato v progr napiš tako izjav da ljude odvrn pozorn\nmisli da je to robot in ne človek zato v progr napiš tako izjav da ljude odvrn pozorn\n\nvodja teroristič tolpe ne more drugač razmi\nvodja teroristič tolpe ne more drugač razmi\n\nna koncu se nam bo kolcal po trump\nna koncu se nam bo kolcal po trump\n\ntwiter bo sedaj se bidna utišal ker spodb nasil\ntwiter bo sedaj se bidna utišal ker spodb nasil\n\nzdaj se držav resno lotij krimin in bo povpr po kriptovalutah padlo\nzdaj se držav resno lotij krimin in bo povpr po kriptovalutah padlo\n\ndans so bli pocen nakup kater ne bomo videl nikol več\ndans so bli pocen nakup kater ne bomo videl nikol več\n\nkdor ima denar ki ga je zasluž na lahek način mu ni probl zapravit za ničvred stvar\nkdor ima denar ki ga je zasluž na lahek način mu ni probl zapravit za ničvred stvar\n\nvse kar lahko rečem je pizda matern\nvse kar lahko rečem je pizda matern\n\nburek je sam mesni\nburek je sam mesni\n\nto je totaln zgre ideja\nto je totaln zgre ideja\n\nmisli na potrat energ za prazen nič\nmisli na potrat energ za prazen nič\n\nprobl je samo da mu sledi vojsk norcev\nprobl je samo da mu sledi vojsk norcev\n\nsuper anti rekla za hofer ter za tega butla neumn\nsuper anti rekla za hofer ter za tega butla neumn\n\notrok je super on pa antipatik na turbo poten debil neumen\notrok je super on pa antipatik na turbo poten debil neumen\n\nhofer cena antipatič butal\nhofer cena antipatič butal\n\nnajbednej nekultur in najbol kreten minister v samostoj sloven\nnajbednej nekultur in najbol kreten minister v samostoj sloven\n\nja pomet štalo ki ste jo posral jeben levak\nja pomet štalo ki ste jo posral jeben levak\n\nnekoč smo imeli enoum sedaj imamo slabo\nnekoč smo imeli enoum sedaj imamo slabo\n\nsamo najlaz je krivd za svojo nesposobnos valit na vse druge\nsamo najlaz je krivd za svojo nesposobnos valit na vse druge\n\na mu je zmanjk šnopc\na mu je zmanjk šnopc\n\nseved vedno je nekdo drug kriv\nseved vedno je nekdo drug kriv\n\numetn ustvar konflik in iskan enostr rešit\numetn ustvar konflik in iskan enostr rešit\n\nzakaj se sam s seboj prepiras\nzakaj se sam s seboj prepiras\n\nnič nisi nared kmetavzar pofuk\nnič nisi nared kmetavzar pofuk\n\nzelo lepo ampak ena stvar ki jo pogre je maribor\nzelo lepo ampak ena stvar ki jo pogre je maribor\n\nvse preklet teror bi moral obesit na drevo\nvse preklet teror bi moral obesit na drevo\n\nboli me kurac kaj si ta baba misli kaj zabog pa misli da je\nboli me kurac kaj si ta baba misli kaj zabog pa misli da je\n\njebi se ti in vsi ti tvoji\njebi se ti in vsi ti tvoji\n\nporaž so jo še pocen odnesl ko jih jebe\nporaž so jo še pocen odnesl ko jih jebe\n\nronald je fuknj brazil grd konj\nronald je fuknj brazil grd konj\n\njebem ti tako sojen\njebem ti tako sojen\n\nkar pojebaj si mater\nkar pojebaj si mater\n\nbanda da ni večje vsi ste eni pofuk pijan\nbanda da ni večje vsi ste eni pofuk pijan\n\ndobr samo uničujet pizde čefurs\ndobr samo uničujet pizde čefurs\n\nma mrš štajer prekl neumn\nma mrš štajer prekl neumn\n\nše doro da nam je maister obdrž maribor drugač bi bilo fse v kurcu\nše doro da nam je maister obdrž maribor drugač bi bilo fse v kurcu\n\ns kurce bi vas premag\ns kurce bi vas premag\n\nidiot koder peter pa še iz ust ti smrdi\nidiot koder peter pa še iz ust ti smrdi\n\njedi govna janez ubij ubij ubij janez\njedi govna janez ubij ubij ubij janez\n\ntakoj ko pridet boste dobil po pički\ntakoj ko pridet boste dobil po pički\n\nprekl kot star mornar moji so zacel prekl sredi sredn sole\nprekl kot star mornar moji so zacel prekl sredi sredn sole\n\nvsa ta roba ki so jo dali je prov za en kurac\nvsa ta roba ki so jo dali je prov za en kurac\n\nste vi moj kurac zmagal\nste vi moj kurac zmagal\n\nhrvat ko vas jebe kurci pofuk\nhrvat ko vas jebe kurci pofuk\n\nmisli pedro bi mogli dat opeko\nmisli pedro bi mogli dat opeko\n\npovej gnida brezjaj kako ti je všeč šala\npovej gnida brezjaj kako ti je všeč šala\n\nspizd nazaj v gmanjn bedak\nspizd nazaj v gmanjn bedak\n\nkurba spakiraj in spizd domov\nkurba spakiraj in spizd domov\n\npa kaka budal od projek moreš bit da si zamisl ki takeg\npa kaka budal od projek moreš bit da si zamisl ki takeg\n\nraje vkoplj daljnovod in odjebite s to nepotrebno nesmiselno cesto\nraje vkoplj daljnovod in odjeb s to nepotreb nesmisel cesto\n\nti prekl geji marš kot da ni vsega dost\nti prekl geji marš kot da ni vsega dost\n\njebem žide golaz da je ni večje\njebem žide golaz da je ni večje\n\nbanda frdam fuzbaler kake pa tros posran pejte rajš delat kej bolj pametn\nbanda frdam fuzbaler kake pa tros posran pejte rajš delat kej bolj pametn\n\nžabar so kurbe pizde pojeb\nžabar so kurbe pizde pojeb\n\nsloven gre naprej u pičku matern\nsloven gre naprej u pičku matern\n\nprekl bosan sam zgin\nprekl bosan sam zgin\n\nsem proti čefurj definit\nsem proti čefurj definit\n\nčefur franj imajo pa pimpek\nčefur franj imajo pa pimpek\n\nampak čefurk pa dobro cuzij kurac kar je res je res\nampak čefurk pa dobro cuzij kurac kar je res je res\n\njebi ga boljš kot vaše ki jim pravi izrek čim bolj se bliža sloven vedno lepše so krave in vse grše šjore\njebi ga boljš kot vaše ki jim pravi izrek čim bolj se bliža sloven vedno lepše so krave in vse grše šjore\n\n"
     ],
     "output_type": "stream"
    }
   ],
   "source": [
    "from preprocessing_utils import *\n",
    "\n",
    "def clean_text(text):\n",
    "    cleaned_text = re.sub(\n",
    "        \"(^!+)|([@][^\\s]*[:]?)|(&#\\d+;)|(https?[^\\s]*)|(&amp;)|(RT)|(&lt;)|(\\n)\",\n",
    "        \"\",\n",
    "        text\n",
    "    )\n",
    "\n",
    "    # removing accented characters\n",
    "    # cleaned_text = remove_accented_chars(cleaned_text)\n",
    "\n",
    "    # removing special characters\n",
    "    cleaned_text = remove_special_characters(cleaned_text)\n",
    "\n",
    "    # removing contractions\n",
    "    # cleaned_text = contractions.fix(cleaned_text)\n",
    "\n",
    "    # removing punctuation\n",
    "    cleaned_text = remove_punctuation(cleaned_text)\n",
    "\n",
    "    # text stemming\n",
    "    cleaned_text = stemming(cleaned_text, \"slo\")\n",
    "\n",
    "    # removing extra whitespaces\n",
    "    cleaned_text = cleaned_text.strip()\n",
    "    cleaned_text = remove_extra_whitespace_tabs(cleaned_text)\n",
    "\n",
    "    # print(text)\n",
    "    # print(cleaned_text)\n",
    "    # print()\n",
    "\n",
    "    return cleaned_text.lower()\n",
    "\n",
    "df['text'] = df['text'].apply(clean_text)\n",
    "# df.head(30)\n",
    "df.to_csv('../preprocessed_data/slo_test_data_preprocessed.csv')\n",
    "\n"
   ],
   "metadata": {
    "collapsed": false,
    "pycharm": {
     "name": "#%%\n",
     "is_executing": false
    }
   }
  }
 ],
 "metadata": {
  "kernelspec": {
   "display_name": "Python 3",
   "language": "python",
   "name": "python3"
  },
  "language_info": {
   "codemirror_mode": {
    "name": "ipython",
    "version": 2
   },
   "file_extension": ".py",
   "mimetype": "text/x-python",
   "name": "python",
   "nbconvert_exporter": "python",
   "pygments_lexer": "ipython2",
   "version": "2.7.6"
  },
  "pycharm": {
   "stem_cell": {
    "cell_type": "raw",
    "source": [],
    "metadata": {
     "collapsed": false
    }
   }
  }
 },
 "nbformat": 4,
 "nbformat_minor": 0
}