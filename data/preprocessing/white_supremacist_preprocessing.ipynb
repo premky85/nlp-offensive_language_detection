{
 "cells": [
  {
   "cell_type": "code",
   "execution_count": 1,
   "metadata": {
    "collapsed": true
   },
   "outputs": [],
   "source": [
    "import pandas as pd\n",
    "from preprocessing_utils import clean_text, stemming\n",
    "\n",
    "def read_file(file_id):\n",
    "    with open('../white_supremacist_forum/comments/' + file_id + \".txt\") as file:\n",
    "        text = file.read()\n",
    "    return text"
   ]
  },
  {
   "cell_type": "code",
   "execution_count": 10,
   "outputs": [],
   "source": [
    "folder = '../white_supremacist_forum/comments/'\n",
    "annotations_path = '../white_supremacist_forum/annotations.csv'\n",
    "\n",
    "annotations = pd.read_csv(annotations_path)\n",
    "annotations.drop(['user_id', 'num_contexts', 'subforum_id'], axis=1, inplace=True)\n",
    "annotations['file_id'] = annotations['file_id'].apply(read_file)\n",
    "annotations['label'] = annotations['label'].apply(lambda s: int(s == \"hate\"))\n",
    "annotations.rename(columns={'file_id': 'text', 'label': 'is_hate'}, inplace=True)\n",
    "# annotations.head()"
   ],
   "metadata": {
    "collapsed": false,
    "pycharm": {
     "name": "#%%\n"
    }
   }
  },
  {
   "cell_type": "code",
   "execution_count": 17,
   "outputs": [],
   "source": [
    "params = [\"lower\", \"accented\", \"links\", \"special\", \"contractions\", \"punct\", \"numbers\", \"whitespaces\", \"stemming\"]\n",
    "annotations['text'] = annotations['text'].apply(lambda x: clean_text(x, params, \"eng\", False))\n",
    "annotations = annotations[annotations['text'] != \"\"]\n",
    "# annotations.head()\n",
    "\n",
    "# annotations.to_csv('../preprocessed_data/white_supremacist_forum_preprocessed.csv')"
   ],
   "metadata": {
    "collapsed": false,
    "pycharm": {
     "name": "#%%\n"
    }
   }
  }
 ],
 "metadata": {
  "kernelspec": {
   "display_name": "Python 3",
   "language": "python",
   "name": "python3"
  },
  "language_info": {
   "codemirror_mode": {
    "name": "ipython",
    "version": 2
   },
   "file_extension": ".py",
   "mimetype": "text/x-python",
   "name": "python",
   "nbconvert_exporter": "python",
   "pygments_lexer": "ipython2",
   "version": "2.7.6"
  }
 },
 "nbformat": 4,
 "nbformat_minor": 0
}