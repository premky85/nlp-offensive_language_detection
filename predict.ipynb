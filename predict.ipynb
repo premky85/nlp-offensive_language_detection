{
 "metadata": {
  "language_info": {
   "codemirror_mode": {
    "name": "ipython",
    "version": 3
   },
   "file_extension": ".py",
   "mimetype": "text/x-python",
   "name": "python",
   "nbconvert_exporter": "python",
   "pygments_lexer": "ipython3",
   "version": 3
  },
  "orig_nbformat": 2
 },
 "nbformat": 4,
 "nbformat_minor": 2,
 "cells": [
  {
   "cell_type": "code",
   "execution_count": null,
   "metadata": {},
   "outputs": [],
   "source": [
    "import pandas as pd\n",
    "import numpy as np\n",
    "from models.models import TextClassificationNet\n",
    "from models.utils.data_loader import TextDataloader\n",
    "from sklearn.metrics import confusion_matrix, classification_report\n",
    "from tqdm import tqdm\n",
    "import tensorflow as tf"
   ]
  },
  {
   "cell_type": "code",
   "execution_count": null,
   "metadata": {},
   "outputs": [],
   "source": [
    "\n",
    "def predict(data, model_name, weights_path):\n",
    "    ''' \n",
    "    Predict function for text classification\n",
    "\n",
    "    ----------------\n",
    "    INPUTS:\n",
    "    data: Pandas.DataFrame - text column named 'text', label column named 'class' with possible values [0, 1, 2] (0 - normal language, 1 - hate speech, 2 - offensive language)\n",
    "    model_name: String - possible values ['bert', 'csebert', 'xlmr']\n",
    "    weights_path: String - path to weights file\n",
    "\n",
    "    ----------------\n",
    "    OUTPUTS:\n",
    "    preds: List - list of softmax predictions for each input text\n",
    "    '''\n",
    "    preds = []\n",
    "\n",
    "    text_dataloader = TextDataloader(seq_length=SEQ_LENGTH, batch_size=32, language_model=model_name)\n",
    "    tcn = TextClassificationNet(seq_length=SEQ_LENGTH, language_model=model_name)\n",
    "    model = tcn.get_model()\n",
    "    model.load_weights(weights_path)\n",
    "\n",
    "    bs = 64\n",
    "    with tqdm(total=df.shape[0] // bs) as pbar:\n",
    "        for i,rows in df.groupby(np.arange(len(df))//bs):\n",
    "            pbar.update(1)\n",
    "            tokens, masks = zip(*map(text_dataloader.tokenize, rows['text'].to_numpy()))\n",
    "            if len(masks) > 1 and len(tokens) > 1:\n",
    "                tokens, masks = tf.squeeze(tf.stack(tokens)), tf.squeeze(tf.stack(masks))\n",
    "\n",
    "            predicted = model.predict([tokens, masks])\n",
    "            preds += list(predicted)\n",
    "\n",
    "    return preds\n",
    "\n",
    "def evaluate(labels, predictions, name='generic_network'):\n",
    "    print('=================== ' + name + ' ===================\\n')\n",
    "    print(confusion_matrix(labels, predictions))\n",
    "    print(classification_report(labels, predictions, digits=3))\n",
    "    print('\\n\\n')\n",
    "\n",
    "def ensemble_voting(model_preds):\n",
    "    ''' \n",
    "    Combine predictions for ensemble voting\n",
    "\n",
    "    ----------------\n",
    "    INPUTS:\n",
    "    model_preds: List - 3d list of softmax predictions for each model contributing to voting\n",
    "\n",
    "    ----------------\n",
    "    OUTPUTS:\n",
    "    preds: List - 1d list of predictions\n",
    "    '''\n",
    "\n",
    "    return (np.sum(model_preds, axis=0) / len(model_preds)).argmax(axis=-1)\n"
   ]
  },
  {
   "cell_type": "code",
   "execution_count": null,
   "metadata": {},
   "outputs": [],
   "source": [
    "# TODO create Pandas DataFrame with text column named 'text' and labels column names 'class'\n",
    "\n",
    "df = None"
   ]
  },
  {
   "cell_type": "code",
   "execution_count": null,
   "metadata": {},
   "outputs": [],
   "source": [
    "mbert_predictions = predict(df, model_name='bert', weights_path='/path/to/weights.h5')\n",
    "csebert_predictions = predict(df, model_name='csebert', weights_path='/path/to/weights.h5')\n",
    "xlmr_predictions = predict(df, model_name='xlmr', weights_path='/path/to/weights.h5')\n",
    "\n",
    "labels = df['class']\n",
    "\n",
    "ensemble_preds = [mbert_predictions, csebert_predictions, xlmr_predictions]\n",
    "evaluate(labels, ensemble_preds, 'Ensemble')\n",
    "\n",
    "mbert_preds = mbert_predictions.argmax(axis=-1)\n",
    "evaluate(labels, mbert_preds, 'mBERT')\n",
    "\n",
    "csebert_preds = csebert_predictions.argmax(axis=-1)\n",
    "evaluate(labels, csebert_preds, 'CroSloEngualBERT')\n",
    "\n",
    "xlmr_preds = xlmr_predictions.argmax(axis=-1)\n",
    "evaluate(labels, xlmr_preds, 'XLMr')\n"
   ]
  }
 ]
}